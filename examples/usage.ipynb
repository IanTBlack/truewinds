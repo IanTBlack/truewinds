{
 "cells": [
  {
   "metadata": {
    "ExecuteTime": {
     "end_time": "2025-07-30T20:05:45.356392Z",
     "start_time": "2025-07-30T20:05:45.341526Z"
    }
   },
   "cell_type": "code",
   "source": "#!pip install truewinds",
   "id": "2fb5a09a61ecd39e",
   "outputs": [],
   "execution_count": 1
  },
  {
   "metadata": {
    "ExecuteTime": {
     "end_time": "2025-07-30T20:05:45.423390Z",
     "start_time": "2025-07-30T20:05:45.356392Z"
    }
   },
   "cell_type": "code",
   "source": [
    "import numpy as np\n",
    "\n",
    "from truewinds import compute_true_winds"
   ],
   "id": "initial_id",
   "outputs": [],
   "execution_count": 2
  },
  {
   "metadata": {},
   "cell_type": "markdown",
   "source": "## Singleton",
   "id": "4db4da51a7a285ba"
  },
  {
   "metadata": {
    "ExecuteTime": {
     "end_time": "2025-07-30T20:05:45.427174Z",
     "start_time": "2025-07-30T20:05:45.424107Z"
    }
   },
   "cell_type": "code",
   "source": [
    "# Dummy Values\n",
    "cog = 123\n",
    "sog = 12.3 # knots\n",
    "hdg = 126.45\n",
    "rwd = 360 - hdg\n",
    "rws = 5.89\n",
    "zlr = 0.0"
   ],
   "id": "fa221db57bd67bc9",
   "outputs": [],
   "execution_count": 3
  },
  {
   "metadata": {
    "ExecuteTime": {
     "end_time": "2025-07-30T20:05:45.434543Z",
     "start_time": "2025-07-30T20:05:45.427174Z"
    }
   },
   "cell_type": "code",
   "source": [
    "tw = compute_true_winds(cog=cog, sog=sog, hdg=hdg, rwd=rwd, rws=rws, zlr=zlr, return_flags=False, return_components=False)\n",
    "print('Without flags and components...')\n",
    "tw"
   ],
   "id": "473b85a60badcc74",
   "outputs": [
    {
     "name": "stdout",
     "output_type": "stream",
     "text": [
      "Without flags and components...\n"
     ]
    },
    {
     "data": {
      "text/plain": [
       "{'true_wind_direction': 320.6683405288343,\n",
       " 'true_wind_speed': 16.275657539388916}"
      ]
     },
     "execution_count": 4,
     "metadata": {},
     "output_type": "execute_result"
    }
   ],
   "execution_count": 4
  },
  {
   "metadata": {
    "ExecuteTime": {
     "end_time": "2025-07-30T20:05:45.439998Z",
     "start_time": "2025-07-30T20:05:45.434543Z"
    }
   },
   "cell_type": "code",
   "source": [
    "tw = compute_true_winds(cog=cog, sog=sog, hdg=hdg, rwd=rwd, rws=rws, zlr=zlr)\n",
    "print('With flags and components...')\n",
    "tw"
   ],
   "id": "706ab08deda69c97",
   "outputs": [
    {
     "name": "stdout",
     "output_type": "stream",
     "text": [
      "With flags and components...\n"
     ]
    },
    {
     "data": {
      "text/plain": [
       "{'true_wind_direction': 320.6683405288343,\n",
       " 'true_wind_speed': 16.275657539388916,\n",
       " 'u_true_wind': 10.31564798572871,\n",
       " 'v_true_wind': -12.589060130684834,\n",
       " 'flag_sog': 1,\n",
       " 'flag_cog': 1,\n",
       " 'flag_hdg': 1,\n",
       " 'flag_rwd': 1,\n",
       " 'flag_rws': 1}"
      ]
     },
     "execution_count": 5,
     "metadata": {},
     "output_type": "execute_result"
    }
   ],
   "execution_count": 5
  },
  {
   "metadata": {},
   "cell_type": "markdown",
   "source": "## List",
   "id": "248dceaa07a6aad1"
  },
  {
   "metadata": {
    "ExecuteTime": {
     "end_time": "2025-07-30T20:05:45.443762Z",
     "start_time": "2025-07-30T20:05:45.439998Z"
    }
   },
   "cell_type": "code",
   "source": [
    "cog = [123, 124, 124.234]\n",
    "sog = [12.44,10.34, 9]\n",
    "hdg = [126.45, 127.0, 128.0]\n",
    "rwd = [360 - h for h in hdg]\n",
    "rws = [5.89, 6.0, 7.98]"
   ],
   "id": "5194f0255b496ec4",
   "outputs": [],
   "execution_count": 6
  },
  {
   "metadata": {
    "ExecuteTime": {
     "end_time": "2025-07-30T20:05:45.449819Z",
     "start_time": "2025-07-30T20:05:45.443762Z"
    }
   },
   "cell_type": "code",
   "source": [
    "tw = compute_true_winds(cog=cog, sog=sog, hdg=hdg, rwd=rwd, rws=rws, zlr=zlr, return_flags=True)\n",
    "tw"
   ],
   "id": "6556446a9140c03f",
   "outputs": [
    {
     "data": {
      "text/plain": [
       "{'true_wind_direction': array([320.51997455, 323.96155475, 330.29658294]),\n",
       " 'true_wind_speed': array([16.40910866, 14.57052695, 15.01627586]),\n",
       " 'u_true_wind': array([10.43306187,  8.5722485 ,  7.44072194]),\n",
       " 'v_true_wind': array([-12.6653096 , -11.78205462, -13.04316671]),\n",
       " 'flag_sog': array([1, 1, 1]),\n",
       " 'flag_cog': array([1, 1, 1]),\n",
       " 'flag_hdg': array([1, 1, 1]),\n",
       " 'flag_rwd': array([1, 1, 1]),\n",
       " 'flag_rws': array([1, 1, 1])}"
      ]
     },
     "execution_count": 7,
     "metadata": {},
     "output_type": "execute_result"
    }
   ],
   "execution_count": 7
  },
  {
   "metadata": {},
   "cell_type": "markdown",
   "source": "## Numpy Arrays",
   "id": "582a6c642b6c48a0"
  },
  {
   "metadata": {
    "ExecuteTime": {
     "end_time": "2025-07-30T20:05:45.453360Z",
     "start_time": "2025-07-30T20:05:45.449819Z"
    }
   },
   "cell_type": "code",
   "source": [
    "cog = np.asarray([123, 124, 124.234])\n",
    "sog = np.asarray([12.44,10.34, 9])\n",
    "hdg = np.asarray([126.45, 127.0, 128.0])\n",
    "rwd = np.asarray([360 - h for h in hdg])\n",
    "rws = np.asarray([5.89, 6.0, 7.98])"
   ],
   "id": "805ac27f2be27ca6",
   "outputs": [],
   "execution_count": 8
  },
  {
   "metadata": {
    "ExecuteTime": {
     "end_time": "2025-07-30T20:05:45.458233Z",
     "start_time": "2025-07-30T20:05:45.453360Z"
    }
   },
   "cell_type": "code",
   "source": [
    "tw = compute_true_winds(cog=cog, sog=sog, hdg=hdg, rwd=rwd, rws=rws, zlr=zlr, return_flags=True)\n",
    "tw"
   ],
   "id": "5045c467de6267c1",
   "outputs": [
    {
     "data": {
      "text/plain": [
       "{'true_wind_direction': array([320.51997455, 323.96155475, 330.29658294]),\n",
       " 'true_wind_speed': array([16.40910866, 14.57052695, 15.01627586]),\n",
       " 'u_true_wind': array([10.43306187,  8.5722485 ,  7.44072194]),\n",
       " 'v_true_wind': array([-12.6653096 , -11.78205462, -13.04316671]),\n",
       " 'flag_sog': array([1, 1, 1]),\n",
       " 'flag_cog': array([1, 1, 1]),\n",
       " 'flag_hdg': array([1, 1, 1]),\n",
       " 'flag_rwd': array([1, 1, 1]),\n",
       " 'flag_rws': array([1, 1, 1])}"
      ]
     },
     "execution_count": 9,
     "metadata": {},
     "output_type": "execute_result"
    }
   ],
   "execution_count": 9
  },
  {
   "metadata": {},
   "cell_type": "markdown",
   "source": [
    "## Bad Flags\n",
    "In the cell below, a bad course over ground and heading value are provided."
   ],
   "id": "6859e5a8cd7f7b84"
  },
  {
   "metadata": {
    "ExecuteTime": {
     "end_time": "2025-07-30T20:05:45.464964Z",
     "start_time": "2025-07-30T20:05:45.458233Z"
    }
   },
   "cell_type": "code",
   "source": [
    "cog = np.asarray([123, 124, 411.234])\n",
    "sog = np.asarray([12.44,10.34, 9])\n",
    "hdg = np.asarray([126.45, 654, 128.0])\n",
    "rwd = np.asarray([123,234,345])\n",
    "rws = np.asarray([5.89, 6.0, 7.98])\n",
    "\n",
    "tw = compute_true_winds(cog=cog, sog=sog, hdg=hdg, rwd=rwd, rws=rws, zlr=zlr, return_flags=True)\n",
    "tw"
   ],
   "id": "4709e5e7defd59a6",
   "outputs": [
    {
     "data": {
      "text/plain": [
       "{'true_wind_direction': array([286.4460994,         nan,         nan]),\n",
       " 'true_wind_speed': array([16.6285929,        nan,        nan]),\n",
       " 'u_true_wind': array([15.9482589,        nan,        nan]),\n",
       " 'v_true_wind': array([-4.70777442,         nan,         nan]),\n",
       " 'flag_sog': array([1, 1, 1]),\n",
       " 'flag_cog': array([1, 1, 4]),\n",
       " 'flag_hdg': array([1, 4, 1]),\n",
       " 'flag_rwd': array([1, 1, 1]),\n",
       " 'flag_rws': array([1, 1, 1])}"
      ]
     },
     "execution_count": 10,
     "metadata": {},
     "output_type": "execute_result"
    }
   ],
   "execution_count": 10
  },
  {
   "metadata": {
    "ExecuteTime": {
     "end_time": "2025-07-30T20:05:45.470466Z",
     "start_time": "2025-07-30T20:05:45.464964Z"
    }
   },
   "cell_type": "code",
   "source": "np.unique(tw['flag_hdg'], return_counts=True)",
   "id": "b347c04fdc3b1b75",
   "outputs": [
    {
     "data": {
      "text/plain": [
       "(array([1, 4]), array([2, 1]))"
      ]
     },
     "execution_count": 11,
     "metadata": {},
     "output_type": "execute_result"
    }
   ],
   "execution_count": 11
  }
 ],
 "metadata": {
  "kernelspec": {
   "display_name": "Python 3",
   "language": "python",
   "name": "python3"
  },
  "language_info": {
   "codemirror_mode": {
    "name": "ipython",
    "version": 2
   },
   "file_extension": ".py",
   "mimetype": "text/x-python",
   "name": "python",
   "nbconvert_exporter": "python",
   "pygments_lexer": "ipython2",
   "version": "2.7.6"
  }
 },
 "nbformat": 4,
 "nbformat_minor": 5
}
